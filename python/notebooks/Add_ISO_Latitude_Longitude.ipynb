{
 "cells": [
  {
   "cell_type": "markdown",
   "id": "881bc9c5-848c-4307-a7ef-e93d4357ccfc",
   "metadata": {},
   "source": [
    "## 1. Connect to SQL"
   ]
  },
  {
   "cell_type": "code",
   "execution_count": 59,
   "id": "ed15a077-b351-4af1-95f2-6c08fb606abb",
   "metadata": {},
   "outputs": [
    {
     "name": "stdout",
     "output_type": "stream",
     "text": [
      "Requirement already satisfied: pyodbc in c:\\users\\juan diaz\\anaconda3\\lib\\site-packages (5.0.1)\n",
      "Note: you may need to restart the kernel to use updated packages.\n"
     ]
    }
   ],
   "source": [
    "%pip install pyodbc\n"
   ]
  },
  {
   "cell_type": "code",
   "execution_count": 95,
   "id": "78fb8670-81de-44ec-a9ee-03d3249591f0",
   "metadata": {},
   "outputs": [
    {
     "name": "stdout",
     "output_type": "stream",
     "text": [
      "✅ Connected to SQL\n"
     ]
    }
   ],
   "source": [
    "import pyodbc\n",
    "\n",
    "conn = pyodbc.connect(\n",
    "    \"DRIVER={SQL Server};\"\n",
    "    \"SERVER=DESKTOP-ID946DB\\\\SQLEXPRESS01;\"\n",
    "    \"DATABASE=FSI-PROJECT;\"\n",
    "    \"Trusted_Connection=yes;\"\n",
    ")\n",
    "\n",
    "cursor = conn.cursor()\n",
    "print(\"✅ Connected to SQL\")"
   ]
  },
  {
   "cell_type": "markdown",
   "id": "0899aa8f-1b87-47b8-be00-61aedc29d7aa",
   "metadata": {},
   "source": [
    "## 2. Read CSV with ISO, Latitude, and Longitude\r\n",
    "\r\n",
    "**Source:** [Google Public Data l Countes](https://developers.google.com/public-data/docs/canonical/countries_csv\n",
    "#### In this step, we extract info from the html:\n",
    "* **country name**\n",
    "* **ISO code**\n",
    "* **latitude**\n",
    "* **longitude**\n",
    "\n",
    "#### Load it into a DataFrame using **`pandas.read_html`**.\r\n"
   ]
  },
  {
   "cell_type": "code",
   "execution_count": 97,
   "id": "69edbdb3-2e75-4533-a870-094115f9ad12",
   "metadata": {},
   "outputs": [
    {
     "data": {
      "text/html": [
       "<div>\n",
       "<style scoped>\n",
       "    .dataframe tbody tr th:only-of-type {\n",
       "        vertical-align: middle;\n",
       "    }\n",
       "\n",
       "    .dataframe tbody tr th {\n",
       "        vertical-align: top;\n",
       "    }\n",
       "\n",
       "    .dataframe thead th {\n",
       "        text-align: right;\n",
       "    }\n",
       "</style>\n",
       "<table border=\"1\" class=\"dataframe\">\n",
       "  <thead>\n",
       "    <tr style=\"text-align: right;\">\n",
       "      <th></th>\n",
       "      <th>country</th>\n",
       "      <th>latitude</th>\n",
       "      <th>longitude</th>\n",
       "      <th>name</th>\n",
       "    </tr>\n",
       "  </thead>\n",
       "  <tbody>\n",
       "    <tr>\n",
       "      <th>0</th>\n",
       "      <td>AD</td>\n",
       "      <td>42.546245</td>\n",
       "      <td>1.601554</td>\n",
       "      <td>Andorra</td>\n",
       "    </tr>\n",
       "  </tbody>\n",
       "</table>\n",
       "</div>"
      ],
      "text/plain": [
       "  country   latitude  longitude     name\n",
       "0      AD  42.546245   1.601554  Andorra"
      ]
     },
     "execution_count": 97,
     "metadata": {},
     "output_type": "execute_result"
    }
   ],
   "source": [
    "import pandas as pd\n",
    "\n",
    "url = \"https://developers.google.com/public-data/docs/canonical/countries_csv\"\n",
    "tables = pd.read_html(url) \n",
    "\n",
    "df_geo = tables[0]  # Use the first table\n",
    "\n",
    "df_geo.head(1)"
   ]
  },
  {
   "cell_type": "markdown",
   "id": "4dea3d76-df4e-4318-9fbc-daa6bab3ecb8",
   "metadata": {},
   "source": [
    "## 3. Clean and rename columns \n",
    "#### Normalization for merge compatibility with SQL data\r\n"
   ]
  },
  {
   "cell_type": "code",
   "execution_count": 8,
   "id": "a6cfe922-7f24-45db-b14e-a896b96659da",
   "metadata": {},
   "outputs": [
    {
     "data": {
      "text/html": [
       "<div>\n",
       "<style scoped>\n",
       "    .dataframe tbody tr th:only-of-type {\n",
       "        vertical-align: middle;\n",
       "    }\n",
       "\n",
       "    .dataframe tbody tr th {\n",
       "        vertical-align: top;\n",
       "    }\n",
       "\n",
       "    .dataframe thead th {\n",
       "        text-align: right;\n",
       "    }\n",
       "</style>\n",
       "<table border=\"1\" class=\"dataframe\">\n",
       "  <thead>\n",
       "    <tr style=\"text-align: right;\">\n",
       "      <th></th>\n",
       "      <th>iso</th>\n",
       "      <th>latitude</th>\n",
       "      <th>longitude</th>\n",
       "      <th>country</th>\n",
       "    </tr>\n",
       "  </thead>\n",
       "  <tbody>\n",
       "    <tr>\n",
       "      <th>0</th>\n",
       "      <td>AD</td>\n",
       "      <td>42.546245</td>\n",
       "      <td>1.601554</td>\n",
       "      <td>andorra</td>\n",
       "    </tr>\n",
       "    <tr>\n",
       "      <th>1</th>\n",
       "      <td>AE</td>\n",
       "      <td>23.424076</td>\n",
       "      <td>53.847818</td>\n",
       "      <td>united arab emirates</td>\n",
       "    </tr>\n",
       "    <tr>\n",
       "      <th>2</th>\n",
       "      <td>AF</td>\n",
       "      <td>33.939110</td>\n",
       "      <td>67.709953</td>\n",
       "      <td>afghanistan</td>\n",
       "    </tr>\n",
       "  </tbody>\n",
       "</table>\n",
       "</div>"
      ],
      "text/plain": [
       "  iso   latitude  longitude               country\n",
       "0  AD  42.546245   1.601554               andorra\n",
       "1  AE  23.424076  53.847818  united arab emirates\n",
       "2  AF  33.939110  67.709953           afghanistan"
      ]
     },
     "execution_count": 8,
     "metadata": {},
     "output_type": "execute_result"
    }
   ],
   "source": [
    "df_geo_clean = df_geo.rename(columns={\n",
    "    'name': 'country', \n",
    "    'country': 'iso'   # (ISO-2)\n",
    "})\n",
    "\n",
    "# lowercase and strip\n",
    "df_geo_clean['country'] = df_geo_clean['country'].str.strip().str.lower()\n",
    "\n",
    "df_geo_clean.head(3)"
   ]
  },
  {
   "cell_type": "markdown",
   "id": "75d24a7c-992c-4eb0-a083-5b70a93df048",
   "metadata": {},
   "source": [
    "## 4. Query countries from SQL and normalize names to do the merge"
   ]
  },
  {
   "cell_type": "code",
   "execution_count": 57,
   "id": "cf189125-7153-4456-bb25-4891afe22670",
   "metadata": {},
   "outputs": [
    {
     "name": "stdout",
     "output_type": "stream",
     "text": [
      "                     country\n",
      "0                      sudan\n",
      "1  congo democratic republic\n",
      "2              cote d'ivoire\n",
      "3                       iraq\n",
      "4                   zimbabwe\n"
     ]
    }
   ],
   "source": [
    "import warnings\n",
    "warnings.filterwarnings(\"ignore\", message=\"pandas only supports SQLAlchemy*\")\n",
    "\n",
    "# Country names from SQL to a DataFrame \n",
    "query = \"SELECT country FROM dbo.FSI_NORMALIZED_PY\"\n",
    "df_sql_countries = pd.read_sql(query, conn)\n",
    "\n",
    "# lowercase and strip\n",
    "df_sql_countries['country'] = df_sql_countries['country'].str.strip().str.lower()\n",
    "\n",
    "print(df_sql_countries.head())\n"
   ]
  },
  {
   "cell_type": "markdown",
   "id": "d74a6d08-aa63-4a11-aed1-36423c1ab98d",
   "metadata": {},
   "source": [
    "## 5. Join the data using normalized country name"
   ]
  },
  {
   "cell_type": "code",
   "execution_count": 60,
   "id": "5ea43339-7b6b-454f-a8d9-935112a4b2ee",
   "metadata": {
    "scrolled": true
   },
   "outputs": [
    {
     "name": "stdout",
     "output_type": "stream",
     "text": [
      "    country iso   latitude  longitude\n",
      "0     sudan  SD  12.862807  30.217636\n",
      "1      iraq  IQ  33.223191  43.679291\n",
      "2  zimbabwe  ZW -19.015438  29.154857\n",
      "3      chad  TD  15.454166  18.732207\n",
      "4   somalia  SO   5.152149  46.199616\n",
      "Total matched countries: 2961\n"
     ]
    }
   ],
   "source": [
    "# Merge SQL with url data\n",
    "df_merged = pd.merge(\n",
    "    df_sql_countries,\n",
    "    df_geo_clean,\n",
    "    on='country', # merge using country as reference\n",
    "    how='inner'  # Keep only matching countries\n",
    ")\n",
    "\n",
    "print(df_merged.head())\n",
    "print(f\"Total matched countries: {len(df_merged)}\")\n",
    "\n"
   ]
  },
  {
   "cell_type": "markdown",
   "id": "f7419a8b-ee7f-470c-832b-39ba486218aa",
   "metadata": {},
   "source": [
    "## 5.1. Verify Uniqueness\r\n",
    "##### Using ISO, We'll Check if an ISO code is linked to more than one country name, and print the differences.\r\n"
   ]
  },
  {
   "cell_type": "code",
   "execution_count": 65,
   "id": "be4e0339-014c-4e43-88c5-64adf778182c",
   "metadata": {},
   "outputs": [
    {
     "name": "stdout",
     "output_type": "stream",
     "text": [
      " ► All ISO codes are consistently linked to a single country name.\n"
     ]
    }
   ],
   "source": [
    "conflicts = {}  # store ISO codes with >1 country name\n",
    "\n",
    "for iso_code, group in df_merged.groupby('iso'):  # iterate ISO\n",
    "    unique_countries = group['country'].dropna().unique()  # get unique country names\n",
    "    if len(unique_countries) > 1:\n",
    "        conflicts[iso_code] = unique_countries  # store ISO with multiple country names\n",
    "\n",
    "if conflicts:\n",
    "    print(\"ISO codes with conflicting country names:\")\n",
    "    for iso, countries in conflicts.items():\n",
    "        print(f\"ISO: {iso} → Countries: {list(countries)}\")  # show ISO and the countries\n",
    "else:\n",
    "    print(\" ► All ISO codes are consistently linked to a single country name.\")  # everything is oki doki\n"
   ]
  },
  {
   "cell_type": "markdown",
   "id": "c6c9efc0-0491-4fea-952c-7744ce06c408",
   "metadata": {},
   "source": [
    "## 5.2. Verify NaN\n",
    "##### Now let's check how many rows have missing ISO codes (NaN)"
   ]
  },
  {
   "cell_type": "code",
   "execution_count": 75,
   "id": "939d7c5f-b977-47eb-bbdd-b222b1f550c7",
   "metadata": {},
   "outputs": [
    {
     "name": "stdout",
     "output_type": "stream",
     "text": [
      "► Total rows with missing ISO code (NaN): 18\n",
      "Countries with missing ISO:\n",
      "['namibia']\n"
     ]
    }
   ],
   "source": [
    "iso_nan = df_merged['iso'].isna()  # finds the rows where the ISO code is missing\n",
    "total_iso_nan = iso_nan.sum()  # counts how many rows have missing ISO codes (True values)\n",
    "countries_with_nan_iso = df_merged.loc[iso_nan, 'country'].unique()  # get unique countries where ISO is NaN\n",
    "\n",
    "print(f\"► Total rows with missing ISO code (NaN): {total_iso_nan}\")\n",
    "print(\"Countries with missing ISO:\")\n",
    "print(countries_with_nan_iso)  # show country names with NaN in ISO"
   ]
  },
  {
   "cell_type": "markdown",
   "id": "36778bb2-23ad-4082-acef-48940bc31a76",
   "metadata": {},
   "source": [
    "## Note: \n",
    "#### ► Although no actual ISO duplicated were found, there were some NaN values. \n",
    "#### ► Since the NaN happens on a small sample, we'll normalize that later and we'll continue with the SQL merge.\n",
    "\n",
    "\r\n"
   ]
  },
  {
   "cell_type": "markdown",
   "id": "8184bc13-3c20-4c30-b1c8-dceb7549400f",
   "metadata": {},
   "source": [
    "### 6. SQL Merge"
   ]
  },
  {
   "cell_type": "code",
   "execution_count": 87,
   "id": "2a1488ff-4565-469e-a78e-e8e62b58b360",
   "metadata": {},
   "outputs": [],
   "source": [
    "# Filter df_merge. Keep rows where ISO has a real value (not null nor empty)\n",
    "\n",
    "df_valid = df_merged[df_merged['iso'].notna() & (df_merged['iso'].str.strip() != '')]\n"
   ]
  },
  {
   "cell_type": "code",
   "execution_count": 99,
   "id": "85a3fb8a-5d20-44d7-af86-93e5663f68ff",
   "metadata": {},
   "outputs": [
    {
     "name": "stdout",
     "output_type": "stream",
     "text": [
      "✅ Total uptadate rows in SQL: 52271\n"
     ]
    }
   ],
   "source": [
    "# Update SQL with ISO, latitude y longitude using df_valid\n",
    "\n",
    "updated_rows = 0  \n",
    "\n",
    "for index, row in df_valid.iterrows():\n",
    "    query = \"\"\"\n",
    "        UPDATE dbo.FSI_NORMALIZED_PY\n",
    "        SET iso = ?, latitude = ?, longitude = ?\n",
    "        WHERE country = ?\n",
    "    \"\"\"\n",
    "    cursor.execute(query, (\n",
    "        str(row['iso']).strip(),\n",
    "        float(row['latitude']),\n",
    "        float(row['longitude']),\n",
    "        str(row['country']).strip()\n",
    "    ))\n",
    "    updated_rows += cursor.rowcount\n",
    "\n",
    "conn.commit()\n",
    "print(f\"✅ Total uptadate rows in SQL: {updated_rows}\")\n"
   ]
  },
  {
   "cell_type": "markdown",
   "id": "0337f47e-e498-433b-8fcd-c18d2e400d3f",
   "metadata": {},
   "source": [
    "## 7. Verify the update in SQL"
   ]
  },
  {
   "cell_type": "code",
   "execution_count": 91,
   "id": "59324708-d35e-45d8-b826-7b19a6c0ebda",
   "metadata": {},
   "outputs": [
    {
     "name": "stdout",
     "output_type": "stream",
     "text": [
      "               country iso\n",
      "0          Afghanistan  AF\n",
      "1              Albania  AL\n",
      "2              Algeria  DZ\n",
      "3               Angola  AO\n",
      "4  Antigua and Barbuda  AG\n",
      "\n",
      " Total ISO assigned: 169 de 187\n"
     ]
    }
   ],
   "source": [
    "import warnings\n",
    "warnings.filterwarnings(\"ignore\", message=\"pandas only supports SQLAlchemy*\")\n",
    "\n",
    "\n",
    "query = \"SELECT DISTINCT country, iso FROM dbo.FSI_NORMALIZED_PY ORDER BY country\"\n",
    "df_check = pd.read_sql(query, conn)\n",
    "\n",
    "print(df_check.head(5))\n",
    "\n",
    "# ISO assigned\n",
    "iso_valid_count = df_check['iso'].notna().sum()\n",
    "print(f\"\\n Total ISO assigned: {iso_valid_count} de {df_check.shape[0]}\")\n"
   ]
  },
  {
   "cell_type": "code",
   "execution_count": null,
   "id": "c347b946-bba4-4e66-98a4-1fc275dca6b1",
   "metadata": {},
   "outputs": [],
   "source": []
  }
 ],
 "metadata": {
  "kernelspec": {
   "display_name": "Python 3 (ipykernel)",
   "language": "python",
   "name": "python3"
  },
  "language_info": {
   "codemirror_mode": {
    "name": "ipython",
    "version": 3
   },
   "file_extension": ".py",
   "mimetype": "text/x-python",
   "name": "python",
   "nbconvert_exporter": "python",
   "pygments_lexer": "ipython3",
   "version": "3.12.4"
  }
 },
 "nbformat": 4,
 "nbformat_minor": 5
}
