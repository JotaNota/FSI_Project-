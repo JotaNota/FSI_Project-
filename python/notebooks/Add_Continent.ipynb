{
 "cells": [
  {
   "cell_type": "markdown",
   "id": "1c002707-d992-4fb2-ba38-5dfcef58fb24",
   "metadata": {},
   "source": [
    "## 1. Connect to SQL and get list of countries."
   ]
  },
  {
   "cell_type": "code",
   "execution_count": 12,
   "id": "66f5ba50-6e25-4714-b141-35f27ff4e14d",
   "metadata": {},
   "outputs": [
    {
     "name": "stdout",
     "output_type": "stream",
     "text": [
      "Requirement already satisfied: pyodbc in c:\\users\\juan diaz\\anaconda3\\lib\\site-packages (5.0.1)\n",
      "Note: you may need to restart the kernel to use updated packages.\n"
     ]
    }
   ],
   "source": [
    "pip install pyodbc"
   ]
  },
  {
   "cell_type": "code",
   "execution_count": 13,
   "id": "fc94b071-6911-486b-a09e-a07c644f0784",
   "metadata": {},
   "outputs": [],
   "source": [
    "import pyodbc \n",
    "\n",
    "conn = pyodbc.connect(\n",
    "    \"DRIVER={SQL Server};\" \n",
    "    \"SERVER=DESKTOP-ID946DB\\\\SQLEXPRESS01;\"\n",
    "    \"DATABASE=FSI-PROJECT;\" \n",
    "    \"Trusted_Connection=yes;\" \n",
    ")\n",
    "\n",
    "cursor = conn.cursor() # Cursor for queries"
   ]
  },
  {
   "cell_type": "markdown",
   "id": "759f2ad7-723d-4554-89bf-8155d7594b56",
   "metadata": {},
   "source": [
    "## 2. Retrieve Country List from SQL"
   ]
  },
  {
   "cell_type": "code",
   "execution_count": 52,
   "id": "f33e7cb1-555b-4f3a-ab14-770a9121e982",
   "metadata": {},
   "outputs": [
    {
     "data": {
      "text/plain": [
       "['Afghanistan', 'Albania', 'Algeria', 'Angola', 'Antigua and Barbuda']"
      ]
     },
     "execution_count": 52,
     "metadata": {},
     "output_type": "execute_result"
    }
   ],
   "source": [
    "cursor.execute(\"SELECT DISTINCT country FROM dbo.FSI_NORMALIZED_PY\") # Select unique country names\n",
    "\n",
    "country_list = [row[0] for row in cursor.fetchall()] # Extract country name from each row\n",
    "\n",
    "country_list[:5]"
   ]
  },
  {
   "cell_type": "markdown",
   "id": "603e5e0a-b3cd-431d-ba04-352d24a8d9d5",
   "metadata": {},
   "source": [
    "## 3. Install  **`country_converter`** library"
   ]
  },
  {
   "cell_type": "code",
   "execution_count": 25,
   "id": "30770829-0906-4b21-a904-557f314be669",
   "metadata": {},
   "outputs": [
    {
     "name": "stdout",
     "output_type": "stream",
     "text": [
      "Requirement already satisfied: country_converter in c:\\users\\juan diaz\\anaconda3\\lib\\site-packages (1.3)\n",
      "Requirement already satisfied: pandas>=1.0 in c:\\users\\juan diaz\\anaconda3\\lib\\site-packages (from country_converter) (2.2.2)\n",
      "Requirement already satisfied: numpy>=1.26.0 in c:\\users\\juan diaz\\anaconda3\\lib\\site-packages (from pandas>=1.0->country_converter) (1.26.4)\n",
      "Requirement already satisfied: python-dateutil>=2.8.2 in c:\\users\\juan diaz\\anaconda3\\lib\\site-packages (from pandas>=1.0->country_converter) (2.9.0.post0)\n",
      "Requirement already satisfied: pytz>=2020.1 in c:\\users\\juan diaz\\anaconda3\\lib\\site-packages (from pandas>=1.0->country_converter) (2024.1)\n",
      "Requirement already satisfied: tzdata>=2022.7 in c:\\users\\juan diaz\\anaconda3\\lib\\site-packages (from pandas>=1.0->country_converter) (2023.3)\n",
      "Requirement already satisfied: six>=1.5 in c:\\users\\juan diaz\\anaconda3\\lib\\site-packages (from python-dateutil>=2.8.2->pandas>=1.0->country_converter) (1.16.0)\n"
     ]
    }
   ],
   "source": [
    "!pip install country_converter \n",
    "\n",
    "import country_converter as coco\n",
    "\n",
    "# Create a CountryConverter object \n",
    "cc = coco.CountryConverter() "
   ]
  },
  {
   "cell_type": "markdown",
   "id": "3abfe013-fc76-4713-8fd2-567c4f4e0a1e",
   "metadata": {},
   "source": [
    "## 4. create a Pandas DataFrame. \n",
    "#### Now that we have a: \n",
    "##### ► List of countries and \n",
    "##### ► The converter ready, \n",
    "#### Let's create \n",
    "##### → A dataframe to add the continents column\n"
   ]
  },
  {
   "cell_type": "code",
   "execution_count": 72,
   "id": "a078bb6e-3528-4c59-82de-8f361b58df96",
   "metadata": {
    "scrolled": true
   },
   "outputs": [
    {
     "name": "stderr",
     "output_type": "stream",
     "text": [
      "More than one regular expression match for Israel and West Bank\n",
      "More than one regular expression match for Israel and West Bank\n",
      "More than one regular expression match for Israel and West Bank\n",
      "More than one regular expression match for Israel and West Bank\n",
      "More than one regular expression match for Israel and West Bank\n",
      "More than one regular expression match for Israel and West Bank\n",
      "More than one regular expression match for Israel and West Bank\n",
      "More than one regular expression match for Israel and West Bank\n",
      "More than one regular expression match for Israel and West Bank\n",
      "More than one regular expression match for Israel and West Bank\n",
      "More than one regular expression match for Israel and West Bank\n",
      "More than one regular expression match for Israel and West Bank\n",
      "More than one regular expression match for Israel and West Bank\n",
      "More than one regular expression match for Israel and West Bank\n",
      "More than one regular expression match for Israel and West Bank\n",
      "More than one regular expression match for Israel and West Bank\n",
      "More than one regular expression match for Israel and West Bank\n",
      "More than one regular expression match for Israel and West Bank\n",
      "More than one regular expression match for Israel and West Bank\n",
      "More than one regular expression match for Israel and West Bank\n",
      "More than one regular expression match for Israel and West Bank\n",
      "More than one regular expression match for Israel and West Bank\n",
      "More than one regular expression match for Israel and West Bank\n",
      "More than one regular expression match for Israel and West Bank\n",
      "More than one regular expression match for Israel and West Bank\n",
      "More than one regular expression match for Israel and West Bank\n",
      "More than one regular expression match for Israel and West Bank\n",
      "More than one regular expression match for Israel and West Bank\n",
      "More than one regular expression match for Israel and West Bank\n",
      "More than one regular expression match for Israel and West Bank\n",
      "More than one regular expression match for Israel and West Bank\n",
      "More than one regular expression match for Israel and West Bank\n",
      "More than one regular expression match for Israel and West Bank\n",
      "More than one regular expression match for Israel and West Bank\n",
      "More than one regular expression match for Israel and West Bank\n",
      "More than one regular expression match for Israel and West Bank\n",
      "More than one regular expression match for Israel and West Bank\n",
      "More than one regular expression match for Israel and West Bank\n",
      "More than one regular expression match for Israel and West Bank\n",
      "More than one regular expression match for Israel and West Bank\n",
      "More than one regular expression match for Israel and West Bank\n",
      "More than one regular expression match for Israel and West Bank\n",
      "More than one regular expression match for Israel and West Bank\n",
      "More than one regular expression match for Israel and West Bank\n",
      "More than one regular expression match for Israel and West Bank\n",
      "More than one regular expression match for Israel and West Bank\n",
      "More than one regular expression match for Israel and West Bank\n",
      "More than one regular expression match for Israel and West Bank\n",
      "More than one regular expression match for Israel and West Bank\n",
      "More than one regular expression match for Israel and West Bank\n",
      "More than one regular expression match for Israel and West Bank\n",
      "More than one regular expression match for Israel and West Bank\n",
      "More than one regular expression match for Israel and West Bank\n",
      "More than one regular expression match for Israel and West Bank\n",
      "More than one regular expression match for Israel and West Bank\n",
      "More than one regular expression match for Israel and West Bank\n",
      "More than one regular expression match for Israel and West Bank\n",
      "More than one regular expression match for Israel and West Bank\n",
      "More than one regular expression match for Israel and West Bank\n",
      "More than one regular expression match for Israel and West Bank\n",
      "More than one regular expression match for Israel and West Bank\n",
      "More than one regular expression match for Israel and West Bank\n",
      "More than one regular expression match for Israel and West Bank\n",
      "More than one regular expression match for Israel and West Bank\n",
      "More than one regular expression match for Israel and West Bank\n",
      "More than one regular expression match for Israel and West Bank\n",
      "More than one regular expression match for Israel and West Bank\n",
      "More than one regular expression match for Israel and West Bank\n",
      "More than one regular expression match for Israel and West Bank\n",
      "More than one regular expression match for Israel and West Bank\n",
      "More than one regular expression match for Israel and West Bank\n",
      "More than one regular expression match for Israel and West Bank\n",
      "More than one regular expression match for Israel and West Bank\n",
      "More than one regular expression match for Israel and West Bank\n",
      "More than one regular expression match for Israel and West Bank\n",
      "More than one regular expression match for Israel and West Bank\n",
      "More than one regular expression match for Israel and West Bank\n",
      "More than one regular expression match for Israel and West Bank\n",
      "More than one regular expression match for Israel and West Bank\n",
      "More than one regular expression match for Israel and West Bank\n"
     ]
    },
    {
     "name": "stdout",
     "output_type": "stream",
     "text": [
      "               country continent\n",
      "0          Afghanistan      Asia\n",
      "1              Albania    Europe\n",
      "2              Algeria    Africa\n",
      "3               Angola    Africa\n",
      "4  Antigua and Barbuda   America\n"
     ]
    }
   ],
   "source": [
    "import pandas as pd\n",
    "\n",
    "df_geo_data = pd.DataFrame({'country': country_list}) # So, this creates a dataframe with a country column\n",
    "\n",
    "# Generate continent list and Convert country names to continents\n",
    "continent_list = cc.convert(names=df_geo_data['country'].tolist(), to='continent')\n",
    "\n",
    "# Add 'continent' column\n",
    "df_geo_data['continent'] = continent_list # Assign continent list to 'continent' column\n",
    "\n",
    "print(df_geo_data.head())"
   ]
  },
  {
   "cell_type": "markdown",
   "id": "6a08bc2e-4e93-4e1e-96d3-5692cf9b85c4",
   "metadata": {},
   "source": [
    "## 5.  Update the SQL Table with Continent Data"
   ]
  },
  {
   "cell_type": "code",
   "execution_count": 61,
   "id": "d53ea75f-0a5a-4336-ab6a-29da88f93fce",
   "metadata": {},
   "outputs": [],
   "source": [
    "for index, row in df_geo_data.iterrows():\n",
    "    query = \"\"\"\n",
    "        UPDATE dbo.FSI_NORMALIZED_PY\n",
    "        SET continent = ?\n",
    "        WHERE country = ?\n",
    "    \"\"\"\n",
    "    continent_value = str(row['continent']) \n",
    "    country_value = str(row['country'])      \n",
    "    cursor.execute(query, (continent_value, country_value))  # Execute update with parameters\n",
    "\n",
    "conn.commit()  # Save all updates"
   ]
  },
  {
   "cell_type": "markdown",
   "id": "8e364e7f-6728-48ed-9242-4556432b7102",
   "metadata": {},
   "source": [
    "## 6. Verify Update Results in SQL\n",
    "#### check for missing continent values in the DataFrame.\n"
   ]
  },
  {
   "cell_type": "code",
   "execution_count": 58,
   "id": "5153fdb1-adb5-4c3c-af76-1736ed369ab9",
   "metadata": {},
   "outputs": [
    {
     "name": "stdout",
     "output_type": "stream",
     "text": [
      " ► Total rows updated: 3170\n"
     ]
    }
   ],
   "source": [
    "query = \"SELECT COUNT(*) FROM dbo.FSI_NORMALIZED_PY WHERE continent IS NOT NULL\"\n",
    "cursor.execute(query)\n",
    "print(f\" ► Total rows updated: {cursor.fetchone()[0]}\")\n"
   ]
  },
  {
   "cell_type": "code",
   "execution_count": 70,
   "id": "406d6976-cf02-4360-b274-aa3c8ad8ebe0",
   "metadata": {},
   "outputs": [
    {
     "name": "stdout",
     "output_type": "stream",
     "text": [
      "Unique countries updated in SQL: 187\n",
      "Unique countries in DataFrame: 187\n"
     ]
    }
   ],
   "source": [
    "query = \"\"\"\n",
    "SELECT COUNT(DISTINCT country)\n",
    "FROM dbo.FSI_NORMALIZED_PY\n",
    "WHERE continent IS NOT NULL\n",
    "\"\"\"\n",
    "cursor.execute(query)\n",
    "updated_unique_countries = cursor.fetchone()[0]\n",
    "\n",
    "unique_countries_df = df_geo_data['country'].nunique()\n",
    "\n",
    "print(f\"Unique countries updated in SQL: {updated_unique_countries}\")\n",
    "print(f\"Unique countries in DataFrame: {unique_countries_df}\")\n",
    "\n"
   ]
  },
  {
   "cell_type": "code",
   "execution_count": null,
   "id": "6e23ee7a-ec9f-40a6-b2df-e240e95c63e2",
   "metadata": {},
   "outputs": [],
   "source": []
  }
 ],
 "metadata": {
  "kernelspec": {
   "display_name": "Python 3 (ipykernel)",
   "language": "python",
   "name": "python3"
  },
  "language_info": {
   "codemirror_mode": {
    "name": "ipython",
    "version": 3
   },
   "file_extension": ".py",
   "mimetype": "text/x-python",
   "name": "python",
   "nbconvert_exporter": "python",
   "pygments_lexer": "ipython3",
   "version": "3.12.4"
  }
 },
 "nbformat": 4,
 "nbformat_minor": 5
}
